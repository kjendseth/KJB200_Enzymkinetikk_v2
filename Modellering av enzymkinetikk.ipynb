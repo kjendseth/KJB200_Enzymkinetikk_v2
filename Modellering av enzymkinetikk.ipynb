{
 "cells": [
  {
   "cell_type": "markdown",
   "metadata": {},
   "source": [
    "# Modellering av enzymkinetikk"
   ]
  },
  {
   "cell_type": "markdown",
   "metadata": {},
   "source": [
    "## Bakgrunn\n",
    "\n",
    "Når vi beskriver biokjemiske reaksjoner med tall åpner det seg en ny verden. Plutselig kan vi sammenligne biokjemiske reaksjoner og forutsi hva som skjer når vi blander sammen enzymer og substrater. \n",
    "\n",
    "Å sette tall på hva som skjer i en biokjemisk reaksjon brukes hver dag for å optimalisere prosesser både i forskningslaboratoriet og i industrien. En ting er å forstå en enkel reaksjon med få substrater og produkter. Men hvordan skal du angripe problemer der det er flere reaktanter, intermediater og produkter involvert, og hvor flere serielle og parallelle reaksjoner skjer samtidig? Da kan vi få god hjelp av modellering. Det kan være greit å repetere det du lærte om kinetikk i KJM100 og differensiallikninger i MATH100 når du løser denne oppgaven.\n",
    "\n",
    "Et viktig utrykk i kjemien er likevekten mellom de forskjellige stoffene som er involvert i reaksjonen. For den enkle reaksjonen \n",
    "\n",
    "$$ A \\rightleftharpoons B $$\n",
    "\n",
    "er likevekten beskrevet som:\n",
    "\n",
    "$$K=  \\frac{[B]}{[A]} $$\n",
    "\n",
    "Både A og B er løselige i vann. Pilene i det første utrykket forteller oss noe om hvilken retning reaksjonen går. I dette tilfellet, der vi har en reversibel likevekt, går reaksjonen i begge retninger. Når vi kjenner likevektkonstanten K kan vi for eksempel forutsi hvor mye A og B det finnes i løsningen vår når vi løser en bestemt mengde A i vann. Men, vi vet ingenting om når A og B vil være i likevekt. Det kan ta millisekunder eller tusenvis av år. For å bruke kjemi og biokjemi til noe fornuftig må vi altså vite noe om hvor fort reaksjoner går. Dette omtales ofte som kinetikken til reaksjoner.\n",
    "\n",
    "Det var Guldberg og Waage som for over 100 år siden presenterte massevirkningsloven. Den moderne versjonen brukes for å beskrive hva som skjer med kjemiske reaksjoner over tid.\n",
    "Vi starter med et enkelt eksempel:\n",
    "\n",
    "$$A \\xrightarrow{k} B$$ \n",
    "\n",
    "Merk at dette er ikke en likevekt (pilen peker en retning) men en irreversibel reaksjon. Bokstaven k er hastighetskonstanten til reaksjonen. I Kjemi I læreboken defineres:\n",
    "\n",
    "$$ \\text{reaksjonsfart} =  \\frac{\\text{endring av stoffmengdekonsentrasjon}}{\\text{tid}} $$\n",
    "\n",
    "Dette kan forkortes til\n",
    "\n",
    "$$ v=  \\frac{-d[A]}{dt} = \\frac{d[B]}{dt} $$\n",
    "\n",
    "der v er reaksjonshastigheten og [A] og [B] er stoffmengdekonsentrasjone. Hastigheten av reaksjonen avhenger av stoffmengdekonsentrasjonen(e) til utgangsstoffet (utgangsstoffene) og er gitt ved differensialligningene:\n",
    "\n",
    "$$ \\frac{d[A]}{dt} = -k[A] $$\n",
    "\n",
    "$$ \\frac{d[B]}{dt} = +k[A] $$\n",
    "\n",
    "Ofte brukes det fiks ferdig integrerte hastighetslover når man analyserer enkle reaksjoner. I dette tilfellet er den integrerte loven for en første ordens reaksjon:\n",
    "\n",
    "$$ [A]=[A]_0 \\cdot e^{-kt} $$\n",
    "\n",
    "I dette kurset skal dere bruke en numerisk metode (altså ikke den integrerte ligningen) til å visualisere hvordan konsentrasjonene av de forskjellige stoffmengdene endrer seg over tid gjennom en kjemisk reaksjon. Dette er en generell tilnærming som er veldig kraftfull spesielt i tilfeller der det foregår flere reaksjoner samtidig.\n"
   ]
  },
  {
   "cell_type": "markdown",
   "metadata": {},
   "source": [
    "### Programmering\n",
    "\n",
    "Vi skal nå lage et program som viser dette for et enkelt tilfelle. Starter med å definere en del variabler."
   ]
  },
  {
   "cell_type": "code",
   "execution_count": null,
   "metadata": {},
   "outputs": [],
   "source": [
    "import numpy as np\n",
    "\n",
    "N = 100              # Antall iterasjoner vi regner over\n",
    "start = 0            # Startpunkt\n",
    "slutt = 5            # Sluttpunkt\n",
    "k = 1.0              # Hastighetskonstanten\n",
    "Ca = [1]             # Start-konsentrajsonen til mengde A i molar\n",
    "Cb = [0.3]             # Start-konsentrajsonen til mengde B i molar\n",
    "\n",
    "dt = (slutt - start) / N                   # Tidsstegene\n",
    "tid = np.linspace(start, slutt, N)            # Lager x-aksen"
   ]
  },
  {
   "cell_type": "markdown",
   "metadata": {},
   "source": [
    "Deretter bruker vi en numerisk metode for å finne neste konsentrasjon. Dette gjør vi ved formelen (løsning av differensialligning med Eulers metode):\n",
    "\n",
    "$$ C_{n+1} = C_n + k\\cdot C_n\\cdot dt $$\n",
    "\n",
    "der $k$ kan være positiv eller negativ avhengig av startkonsentrasjonen øker eller minker."
   ]
  },
  {
   "cell_type": "code",
   "execution_count": null,
   "metadata": {},
   "outputs": [],
   "source": [
    "for i in range(N-1):                         # Regner numerisk konsentrasjonsendringene over antallet interasjoner\n",
    "    Ca.append(Ca[i] - k * Ca[i] *dt)       # Beregner og legger til ny konsentrajson for mengde A\n",
    "    Cb.append(Cb[i] + k * Ca[i] *dt)       # Beregner og legger til ny konsentrajson for mengde B"
   ]
  },
  {
   "cell_type": "markdown",
   "metadata": {},
   "source": [
    "Tilslutt plotter vi grafen over utregningene."
   ]
  },
  {
   "cell_type": "code",
   "execution_count": null,
   "metadata": {},
   "outputs": [],
   "source": [
    "# Her henter vi biblioteket med funksjoner som vi bruker til å plotte data.\n",
    "import matplotlib.pyplot as plt\n",
    "\n",
    "plt.plot(tid,Ca,'r')                         # Plotter for mengde A\n",
    "plt.plot(tid,Cb,'b')                         # Plotter for mengde B\n",
    "plt.legend(['$C_A$','$C_B$'])                  # Setter navn på hver linje i plottet\n",
    "\n",
    "plt.xlabel('Tid (sekunder)')                   # Navn på x-akse\n",
    "plt.ylabel('Konsentrasjon(M)')                 # Navn på y-akse"
   ]
  },
  {
   "cell_type": "markdown",
   "metadata": {},
   "source": [
    "### Oppgave 1\n",
    "\n",
    "a) **Hva skjer for forskjellige verdier av $k$? Prøv med $k = 0.1 s^{-1}$, $1 s^{-1}$, og $100 s^{-1}$. Hvordan endrer plottet seg med de forskjellige hastighetskonstantene?**\n",
    "\n",
    "b) **Hva skjer når du velger $k = 1 s^{-1}$ og varierer startkonsentrasjonen av $A$? Prøv for eksempel med $[A] = 0.1 M$, $1 M$ og $10 M$. <font color = \"red\">NB! Følg med på skalaen på y-aksen.<font>**"
   ]
  },
  {
   "cell_type": "markdown",
   "metadata": {},
   "source": [
    "## Reversibel reaksjon\n",
    "\n",
    "I forrige oppgave jobbet dere med en irreversibel reaksjon. Hva skjer når reaksjonen som gjør om A til B er reversibel? Denne reaksjonen skrives som:\n",
    "\n",
    "$$ A \\mathrel{\\mathop{\\rightleftarrows}^{\\mathrm{k_f}}_{\\mathrm{k_r}}} B $$ \n",
    "\n",
    "Dette er en klassisk likevekt der likevektskonstanten er gitt ved:\n",
    "\n",
    "$$ K=  \\frac{k_f}{k_r} $$\n",
    "\n",
    "Fra dette utrykket blir det klart at tiden det tar før likevekten innstiller seg ikke avhenger av selve likevektskonstanten $K$, men på størrelsen av hastighetskonstantene $k_f$ og $k_r$.\n",
    "\n",
    "Når vi setter opp en hastighetslov ser vi alltid på det eller de stoffene som blir brukt opp. I oppgave 1 var det kun $A$ som ble brukt opp, og vi ble sittende igjen med kun:\n",
    "\n",
    "$$ \\frac{d[A]}{dt} = -k[A] $$\n",
    " \n",
    "Det negative fortegnet foran k er der fordi stoffmengden av A minker i løpet av reaksjonen. I dette tilfellet, der reaksjonen mellom A og B er reversibel, trenger vi differensialligninger for både endringen av både A og B:\n",
    "\n",
    "$$ \\frac{d[A]}{dt} = -k_f [A] + k_r [B] $$\n",
    "\n",
    "$$ \\frac{d[B]}{dt} = k_f [A] - k_r [B] $$"
   ]
  },
  {
   "cell_type": "code",
   "execution_count": null,
   "metadata": {},
   "outputs": [],
   "source": [
    "k_f = 1.1            # Hastighetskonstanten mot høyre\n",
    "k_r = 1.0            # Hastighetskonstanten mot venstre\n",
    "Ca = [1]             # Start konsentrajsonen til mengde A i molar\n",
    "Cb = [0]             # Start konsentrajsonen til mengde B i molar\n",
    "\n",
    "for i in range(N-1):                         # Regner numerisk konsentrasjonsendringene over antallet interasjoner\n",
    "    Ca.append(Ca[i] - k_f*Ca[i]*dt + k_r*Cb[i]*dt)       # Ny konsentrajson for mengde A\n",
    "    Cb.append(Cb[i] + k_f*Ca[i]*dt - k_r*Cb[i]*dt)       # Ny konsentrajson for mengde B\n",
    "\n",
    "plt.plot(tid,Ca,'r')                         # Plotter for mengde A\n",
    "plt.plot(tid,Cb,'b')                         # Plotter for mengde B\n",
    "plt.legend(['$C_A$','$C_B$'])                  # Setter navn på hver linje i plottet\n",
    "\n",
    "plt.xlabel('Tid (sekunder)')                   # Navn på x-akse\n",
    "plt.ylabel('Konsentrasjon(M)')                 # Navn på y-akse"
   ]
  },
  {
   "cell_type": "markdown",
   "metadata": {},
   "source": [
    "### Oppgave 2\n",
    "\n",
    "a) **Hva skjer når du prøver forskjellige verdier for $k_f$ og $k_r$? Prøv med verdier mellom $0.1 s^{-1}$ og $10 s^{-1}$? Hvordan endrer plottet seg med de forskjellige hastighetskonstantene? Ser du hvordan hastighetskonstantene påvirker likevekten?** \n",
    "\n",
    "b) **Hva skjer når du velger $k = 1 s^{-1}$ og varierer startkonsentrasjonene av $A$ og $B$? Prøv med $[A]$ og $[B]$ mellom $0.1 M$ og $1 M$. <font color = \"red\">NB! Følg med på skalaen på y-aksen.<font>**"
   ]
  },
  {
   "cell_type": "markdown",
   "metadata": {},
   "source": [
    "## En enkel enzymkatalysert reaksjon\n",
    "\n",
    "Vi skal nå se på en den enkleste modellen for en enzymkatalysert reaksjon. Stoffene som er med er substrat (S), enzym (E) og produkt (P). ES er enzym-substrat komplekset. Reaksjonen er gitt ved:\n",
    "\n",
    "$$ E + S \\mathrel{\\mathop{\\rightleftarrows}^{\\mathrm{k_1}}_{\\mathrm{k_{-1}}}} ES \\xrightarrow{k_2} E + P $$\n",
    "\n",
    "For å beskrive denne reaksjonen trenger vi fire differensialligninger:\n",
    "\n",
    "$$ \\frac{d[P]}{dt} = k_2[ES] $$\n",
    "\n",
    "$$ \\frac{d[S]}{dt} = -k_1[E][S]+k_{-1}[ES] $$\n",
    "\n",
    "$$ \\frac{d[ES]}{dt} = k_1[E][S]-k_{-1}[ES]-k_2[ES]   $$\n",
    "\n",
    "$$ \\frac{d[E]}{dt} = -k_1[E][S]+k_{-1}[ES]+k_2[ES]  $$\n",
    "\n",
    "\n",
    "I koden under bruker vi samme metoden som før for å regne ut verdier for dette settet med differensialligninger."
   ]
  },
  {
   "cell_type": "code",
   "execution_count": null,
   "metadata": {},
   "outputs": [],
   "source": [
    "N = 1000000          # Antall iterasjoner vi regner over (viktig med et høyt tall i denne oppgaven)\n",
    "start = 0            # Startpunkt\n",
    "slutt = 15          # Sluttpunkt\n",
    "dt = (slutt - start) / N                   # Tidsstegene\n",
    "tid = np.linspace(start, slutt, N)            # Lager x-aksen\n",
    "\n",
    "\n",
    "k1 = 0.05           # Hastighetskonstant\n",
    "k_1 = 0.1          # Hastighetskonstant\n",
    "k2 = 1.0            # Hastighetskonstant\n",
    "Ce = [10]             # Start-konsentrajsonen til enzym, [E] i uM\n",
    "Cs = [100]           # Start-konsentrajsonen til substrat, [S] i uM\n",
    "Ces = [0]            # Start-konsentrajsonen til enzym-substrat kompleks, [ES] i uM\n",
    "Cp = [0]             # Start-konsentrajsonen til produkt, [P] i uM\n",
    "\n",
    "for i in range(N-1):                         # Regner numerisk konsentrasjonsendringene over antallet interasjoner\n",
    "    Cp.append(Cp[i] + k2*Ces[i]*dt)\n",
    "    Cs.append(Cs[i] - k1*Ce[i]*Cs[i]*dt + k_1*Ces[i]*dt)\n",
    "    Ces.append(Ces[i] + k1*Ce[i]*Cs[i]*dt - k_1*Ces[i]*dt - k2*Ces[i]*dt)\n",
    "    Ce.append(Ce[i] - k1*Ce[i]*Cs[i]*dt + k_1*Ces[i]*dt + k2*Ces[i]*dt)\n",
    "     \n",
    "\n",
    "plt.plot(tid,Cp,'r')                         # Plotter for mengde A\n",
    "plt.plot(tid,Cs,'b')                         # Plotter for mengde B\n",
    "plt.plot(tid,Ces,'g')                         # Plotter for mengde C\n",
    "plt.plot(tid,Ce,'m')                         # Plotter for mengde D\n",
    "plt.legend(['$C_P$','$C_S$', '$C_{ES}$','$C_E$'])    # Setter navn på hver linje i plottet\n",
    "\n",
    "plt.xlabel('Tid (sekunder)')                   # Navn på x-akse\n",
    "plt.ylabel('Konsentrasjon(uM)')                # Navn på y-akse\n"
   ]
  },
  {
   "cell_type": "markdown",
   "metadata": {},
   "source": [
    "### Oppgave 3 \n",
    "\n",
    "Bruk koden over til å svare på de følgende spørsmålene.\n",
    "\n",
    "a) Hva skjer når du dobler enzymkonsentrasjonen? Bruk k1 = 10.0, k_1 = 20.0 og k2 = 1.0. Beskriv endringene for hver av de 4 forskjellige kurvene i plottet.\n",
    "\n",
    "b) Simuler systemet fra 0 til 15 sekunder med k1 = 10.0, k_1 = 20.0 og k2 = 1.0. Endre hastighetskonstantene til k1 = 0.05, k_1 = 0.1 og k2 = 1.0 og kjør simuleringen igjen. Observerer du \"steady state\" i noen av disse simuleringene?\n",
    "\n",
    "\n",
    "c) Bruk en enzymkonsentrasjon på 10 uM og hastighetskonstantene k1 = 0.05, k_1 = 0.1 og k2 = 1.0 og simuler systemet en gang med 100 uM substrat fra start og en gang med 10 uM substrat fra start. For begge simuleringene, prøv å estimer stigningstallet i uM/s der kurven er brattest og tilnærmet lineær. Noter tallene til oppgave 4.\n",
    "\n"
   ]
  },
  {
   "cell_type": "markdown",
   "metadata": {},
   "source": [
    "## Michaelis-Menten ligningen\n",
    "\n",
    "Den enkleste modellen for en enzymkatalysert reaksjon som vi modellerte over brukes ofte for å karakterisere biokjemiske reaksjoner. Som før vurderer vi stoffene substrat (S), enzym (E) og produkt (P). Reaksjonen er gitt ved:\n",
    "\n",
    "$$ E + S \\mathrel{\\mathop{\\rightleftarrows}^{\\mathrm{k_1}}_{\\mathrm{k_{-1}}}} ES \\xrightarrow{k_2} E + P $$\n",
    "\n",
    "\n",
    "I 1913 utledet Leonor Michaelis og Maude Menten utrykket kjent som Michaelis-Menten ligningen. Den er gitt ved:\n",
    "\n",
    "\n",
    "$$ v_0 = \\frac{V_{max}[S]}{K_M+[S]}$$\n",
    "\n",
    "\n",
    "\n",
    "\n",
    "\n",
    "\n",
    "Parameteren $v_0$ er initialhastigheten mens $V_{max}=k_2[E]_{tot}$ og $K_M = \\frac{k_{-1}+k_2}{k_1}$\n",
    "\n",
    "\n",
    "I koden under så defineres variablene i Michaelis-Menten ligningen. Deretter defineres en funksjon som regner ut $v_0$ for en rekke substratkonsentrasjoner. Til slutt kjøres funksjonen og resultatet plottes.\n",
    "\n",
    "\n"
   ]
  },
  {
   "cell_type": "code",
   "execution_count": null,
   "metadata": {
    "scrolled": true
   },
   "outputs": [],
   "source": [
    "\n",
    "Vmax = 5.5 # k2*Ce[0]\n",
    "Km = 12.0 # Michaelis konstant i uM\n",
    "S_lav = 0 # Laveste substratkonsentrasjon i uM\n",
    "S_hoy = 100 # Høyeste substratkonsentrasjon i uM\n",
    "N = 50 # Antall substratkonsentrasjoner\n",
    "\n",
    "S = np.linspace(S_lav, S_hoy, N)  # Lager en liste med substratkonsentrasjoner\n",
    "\n",
    "def mm_ligning(Vmax, Km, S):\n",
    "    v0=[]\n",
    "    for i in range(N):\n",
    "        v0.append((Vmax*S[i])/(Km + S[i]))\n",
    "    return v0\n",
    "\n",
    "v0 = mm_ligning(Vmax, Km, S)\n",
    "\n",
    "plt.plot(S,v0,'-rd')                         # Plotter for mengde v0 mot [S]\n",
    "plt.xlabel('Substratkonsentrasjon (uM)')     # Navn på x-akse\n",
    "plt.ylabel('Initialhastighet (uM/s)')        # Navn på y-akse"
   ]
  },
  {
   "cell_type": "markdown",
   "metadata": {},
   "source": [
    "### Oppgave 4\n",
    "\n",
    "Bruk koden over til å svare på de følgende spørsmålene.\n",
    "\n",
    "a) Regn ut Km ved å bruke hastighetskonstantene i oppgave 3c.\n",
    "\n",
    "b) Regn ut Vmax ved å bruke enzymkonsentrasjonen og den relevante hastighetskonstanten fra oppgave 3c.\n",
    "\n",
    "c) Sett verdiene fra a) og b) inn i skriptet som simulerer Michaelis-Menten ligningen over og regn ut for substratkonsentrasjon 0 til 100 uM. Fra Michaelis-Menten plottet du beregnet, hva er initialhastighetene i uM/s for 10 og 100 uM substrat? \n",
    "\n",
    "d) Hvordan korresponderer initialhastighetene fra c) med verdiene du estimerte i oppgave 3c? Forklar hvorfor du ser et stort avvik for den ene konsentrasjonen. Hint; se hvilke antagelser som gjøres under utledningen av Michaelis-Menten ligningen.\n"
   ]
  }
 ],
 "metadata": {
  "kernelspec": {
   "display_name": "Python 3 (ipykernel)",
   "language": "python",
   "name": "python3"
  },
  "language_info": {
   "codemirror_mode": {
    "name": "ipython",
    "version": 3
   },
   "file_extension": ".py",
   "mimetype": "text/x-python",
   "name": "python",
   "nbconvert_exporter": "python",
   "pygments_lexer": "ipython3",
   "version": "3.9.7"
  }
 },
 "nbformat": 4,
 "nbformat_minor": 4
}
